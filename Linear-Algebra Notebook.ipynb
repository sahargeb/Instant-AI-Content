{
 "cells": [
  {
   "cell_type": "markdown",
   "id": "db2c48d0",
   "metadata": {},
   "source": [
    "# Getting Started with Equations\n",
    "Equations are calculations in which one or more variables represent unknown values. In this notebook, you'll learn some fundamental techniques for solving simple equations.\n",
    "\n",
    "## One Step Equations\n",
    "Consider the following equation:\n",
    "\n",
    "\\begin{equation}x + 16 = -25\\end{equation}\n",
    "\n",
    "The challenge here is to find the value for **x**, and to do this we need to *isolate the variable*. In this case, we need to get **x** onto one side of the \"=\" sign, and all of the other values onto the other side. To accomplish this we'll follow these rules:\n",
    "1. Use opposite operations to cancel out the values we don't want on one side. In this case, the left side of the equation includes an addition of 16, so we'll cancel that out by subtracting 16 and the left side of the equation becomes **x + 16 - 16**.\n",
    "2. Whatever you do to one side, you must also do to the other side. In this case, we subtracted 16 from the left side, so we must also subtract 16 from the right side of the equation, which becomes **-25 - 16**.\n",
    "Our equation now looks like this:\n",
    "\n",
    "\\begin{equation}x + 16 - 16 = -25 - 16\\end{equation}\n",
    "\n",
    "Now we can calculate the values on both side. On the left side, 16 - 16 is 0, so we're left with:\n",
    "\n",
    "\\begin{equation}x = -25 - 16\\end{equation}\n",
    "\n",
    "Which yields the result **-41**. Our equation is now solved, as you can see here:\n",
    "\n",
    "\\begin{equation}x = -41\\end{equation}\n",
    "\n",
    "It's always good practice to verify your result by plugging the variable value you've calculated into the original equation and ensuring that it holds true. We can easily do that by using some simple Python code.\n",
    "\n",
    "To verify the equation using Python code, place the cursor in the following cell and then click the &#9658;<b>|</b> button in the toolbar."
   ]
  },
  {
   "cell_type": "markdown",
   "id": "00124596",
   "metadata": {},
   "source": [
    "## Two-Step Equations\n",
    "The previous example was fairly simple - you could probably work it out in your head. So what about something a little more complex?\n",
    "\n",
    "\\begin{equation}3x - 2 = 10 \\end{equation}\n",
    "\n",
    "As before, we need to isolate the variable **x**, but this time we'll do it in two steps. The first thing we'll do is to cancel out the *constants*. A constant is any number that stands on its own, so in this case the 2 that we're subtracting on the left side is a constant. We'll use an opposite operation to cancel it out on the left side, so since the current operation is to subtract 2, we'll add 2; and of course whatever we do on the left side we also need to do on the right side, so after the first step, our equation looks like this:\n",
    "\n",
    "\\begin{equation}3x - 2 + 2 = 10 + 2 \\end{equation}\n",
    "\n",
    "Now the -2 and +2 on the left cancel one another out, and on the right side, 10 + 2 is 12; so the equation is now:\n",
    "\n",
    "\\begin{equation}3x = 12 \\end{equation}\n",
    "\n",
    "OK, time for step two - we need to deal with the *coefficients* - a coefficient is a number that is applied to a variable. In this case, our expression on the left is 3x, which means x multiplied by 3; so we can apply the opposite operation to cancel it out as long as we do the same to the other side, like this:\n",
    "\n",
    "\\begin{equation}\\frac{3x}{3} = \\frac{12}{3} \\end{equation}\n",
    "\n",
    "3x &divide; 3 is x, so we've now isolated the variable\n",
    "\n",
    "\\begin{equation}x = \\frac{12}{3} \\end{equation}\n",
    "\n",
    "And we can calculate the result as <sup>12</sup>/<sub>3</sub> which is **4**:\n",
    "\n",
    "\\begin{equation}x = 4 \\end{equation}\n",
    "\n",
    "Let's verify that result using Python:"
   ]
  },
  {
   "cell_type": "markdown",
   "id": "c69f57a8",
   "metadata": {},
   "source": [
    "## Combining Like Terms\n",
    "Like terms are elements of an expression that relate to the same variable or constant (with the same *order* or *exponential*, which we'll discuss later). For example, consider the following equation:\n",
    "\n",
    "\\begin{equation}\\textbf{5x} + 1 \\textbf{- 2x} = 22 \\end{equation}\n",
    "\n",
    "In this equation, the left side includes the terms **5x** and **- 2x**, both of which represent the variable **x** multiplied by a coefficent. Note that we include the sign (+ or -) in front of the value.\n",
    "\n",
    "We can rewrite the equation to combine these like terms:\n",
    "\n",
    "\\begin{equation}\\textbf{5x - 2x} + 1 = 22 \\end{equation}\n",
    "\n",
    "We can then simply perform the necessary operations on the like terms to consolidate them into a single term:\n",
    "\n",
    "\\begin{equation}\\textbf{3x} + 1 = 22 \\end{equation}\n",
    "\n",
    "Now, we can solve this like any other two-step equation. First we'll remove the constants from the left side - in this case, there's a constant expression that adds 1, so we'll use the opposite operation to remove it and do the same on the other side:\n",
    "\n",
    "\\begin{equation}3x + 1 - 1 = 22 - 1 \\end{equation}\n",
    "\n",
    "That gives us:\n",
    "\n",
    "\\begin{equation}3x = 21 \\end{equation}\n",
    "\n",
    "Then we'll deal with the coefficients - in this case x is multiplied by 3, so we'll divide by 3 on boths sides to remove that:\n",
    "\n",
    "\\begin{equation}\\frac{3x}{3} = \\frac{21}{3} \\end{equation}\n",
    "\n",
    "This give us our answer:\n",
    "\n",
    "\\begin{equation}x = 7 \\end{equation}"
   ]
  },
  {
   "cell_type": "markdown",
   "id": "41b40a07",
   "metadata": {},
   "source": [
    "## Working with Fractions\n",
    "Some of the steps in solving the equations above have involved working wth fractions - which in themselves are actually just division operations. Let's take a look at an example of an equation in which our variable is defined as a fraction:\n",
    "\n",
    "\\begin{equation}\\frac{x}{3} + 1 = 16 \\end{equation}\n",
    "\n",
    "We follow the same approach as before, first removing the constants from the left side - so we'll subtract 1 from both sides.\n",
    "\n",
    "\\begin{equation}\\frac{x}{3} = 15 \\end{equation}\n",
    "\n",
    "Now we need to deal with the fraction on the left so that we're left with just **x**. The fraction is <sup>x</sup>/<sub>3</sub> which is another way of saying *x divided by 3*, so we can apply the opposite operation to both sides. In this case, we need to multiply both sides by the denominator under our variable, which is 3. To make it easier to work with a term that contains fractions, we can express whole numbers as fractions with a denominator of 1; so on the left, we can express 3 as <sup>3</sup>/<sub>1</sub> and multiply it with <sup>x</sup>/<sub>3</sub>. Note that the notation for mutiplication is a **&bull;** symbol rather than the standard *x* multiplication operator (which would cause confusion with the variable **x**) or the asterisk symbol used by most programming languages.\n",
    "\n",
    "\\begin{equation}\\frac{3}{1} \\cdot \\frac{x}{3} = 15 \\cdot 3 \\end{equation}\n",
    "\n",
    "This gives us the following result:\n",
    "\n",
    "\\begin{equation}x = 45 \\end{equation}\n",
    "\n",
    "Let's verify that with some Python code:"
   ]
  },
  {
   "cell_type": "code",
   "execution_count": 1,
   "id": "ef909525",
   "metadata": {
    "ExecuteTime": {
     "end_time": "2022-09-13T22:06:46.057717Z",
     "start_time": "2022-09-13T22:06:46.025183Z"
    }
   },
   "outputs": [
    {
     "data": {
      "text/plain": [
       "True"
      ]
     },
     "execution_count": 1,
     "metadata": {},
     "output_type": "execute_result"
    }
   ],
   "source": [
    "x = 45\n",
    "x/3 + 1 == 16"
   ]
  },
  {
   "cell_type": "markdown",
   "id": "0b9869a3",
   "metadata": {
    "ExecuteTime": {
     "end_time": "2022-09-13T22:07:00.889440Z",
     "start_time": "2022-09-13T22:07:00.865384Z"
    }
   },
   "source": [
    "Let's look at another example, in which the variable is a whole number, but its coefficient is a fraction:\n",
    "\n",
    "\\begin{equation}\\frac{2}{5}x + 1 = 11 \\end{equation}\n",
    "\n",
    "As usual, we'll start by removing the constants from the variable expression; so in this case we need to subtract 1 from both sides:\n",
    "\n",
    "\\begin{equation}\\frac{2}{5}x = 10 \\end{equation}\n",
    "\n",
    "Now we need to cancel out the fraction. The expression equates to two-fifths times x, so the opposite operation is to divide by <sup>2</sup>/<sub>5</sub>; but a simpler way to do this with a fraction is to multiply it by its *reciprocal*, which is just the inverse of the fraction, in this case <sup>5</sup>/<sub>2</sub>. Of course, we need to do this to both sides:\n",
    "\n",
    "\\begin{equation}\\frac{5}{2} \\cdot \\frac{2}{5}x = \\frac{10}{1} \\cdot \\frac{5}{2} \\end{equation}\n",
    "\n",
    "That gives us the following result:\n",
    "\n",
    "\\begin{equation}x = \\frac{50}{2} \\end{equation}\n",
    "\n",
    "Which we can simplify to:\n",
    "\n",
    "\\begin{equation}x = 25 \\end{equation}\n",
    "\n",
    "We can confirm that with Python:"
   ]
  },
  {
   "cell_type": "code",
   "execution_count": 3,
   "id": "0968559c",
   "metadata": {
    "ExecuteTime": {
     "end_time": "2022-09-13T22:07:22.890956Z",
     "start_time": "2022-09-13T22:07:22.876450Z"
    }
   },
   "outputs": [
    {
     "data": {
      "text/plain": [
       "True"
      ]
     },
     "execution_count": 3,
     "metadata": {},
     "output_type": "execute_result"
    }
   ],
   "source": [
    "x = 25\n",
    "2/5 * x + 1 ==11"
   ]
  },
  {
   "cell_type": "markdown",
   "id": "d5d0733e",
   "metadata": {},
   "source": [
    "## Equations with Variables on Both Sides\n",
    "So far, all of our equations have had a variable term on only one side. However, variable terms can exist on both sides. \n",
    "\n",
    "Consider this equation:\n",
    "\n",
    "\\begin{equation}3x + 2 = 5x - 1 \\end{equation}\n",
    "\n",
    "This time, we have terms that include **x** on both sides. Let's take exactly the same approach to solving this kind of equation as we did for the previous examples. First, let's deal with the constants by adding 1 to both sides. That gets rid of the -1 on the right:\n",
    "\n",
    "\\begin{equation}3x + 3 = 5x \\end{equation}\n",
    "\n",
    "Now we can eliminate the variable expression from one side by subtracting 3x from both sides. That gets rid of the 3x on the left:\n",
    "\n",
    "\\begin{equation}3 = 2x \\end{equation}\n",
    "\n",
    "Next, we can deal with the coefficient by dividing both sides by 2:\n",
    "\n",
    "\\begin{equation}\\frac{3}{2} = x \\end{equation}\n",
    "\n",
    "Now we've isolated x. It looks a little strange because we usually have the variable on the left side, so if it makes you more comfortable you can simply reverse the equation:\n",
    "\n",
    "\\begin{equation}x = \\frac{3}{2} \\end{equation}\n",
    "\n",
    "Finally, this answer is correct as it is; but <sup>3</sup>/<sub>2</sub> is an improper fraction. We can simplify it to:\n",
    "\n",
    "\\begin{equation}x = 1\\frac{1}{2} \\end{equation}\n",
    "\n",
    "So x is 1<sup>1</sup>/<sub>2</sub> (which is of course 1.5 in decimal notation).\n",
    "Let's check it in Python:"
   ]
  },
  {
   "cell_type": "code",
   "execution_count": 4,
   "id": "3143e4a2",
   "metadata": {
    "ExecuteTime": {
     "end_time": "2022-09-13T22:08:03.311694Z",
     "start_time": "2022-09-13T22:08:03.303696Z"
    }
   },
   "outputs": [
    {
     "data": {
      "text/plain": [
       "True"
      ]
     },
     "execution_count": 4,
     "metadata": {},
     "output_type": "execute_result"
    }
   ],
   "source": [
    "x = 1.5\n",
    "3*x + 2 == 5*x -1"
   ]
  },
  {
   "cell_type": "markdown",
   "id": "40788bfd",
   "metadata": {},
   "source": [
    "## Using the Distributive Property\n",
    "The distributive property is a mathematical law that enables us to distribute the same operation to terms within parenthesis. For example, consider the following equation:\n",
    "\n",
    "\\begin{equation}\\textbf{4(x + 2)} + \\textbf{3(x - 2)} = 16 \\end{equation}\n",
    "\n",
    "The equation includes two operations in parenthesis: **4(*x* + 2)** and **3(*x* - 2)**. Each of these operations consists of a constant by which the contents of the parenthesis must be multipled: for example, 4 times (*x* + 2). The distributive property means that we can achieve the same result by multiplying each term in the parenthesis and adding the results, so for the first parenthetical operation, we can multiply 4 by *x* and add it to 4 times +2; and for the second parenthetical operation, we can calculate 3 times *x* + 3 times -2). Note that the constants in the parenthesis include the sign (+ or -) that preceed them:\n",
    "\n",
    "\\begin{equation}4x + 8 + 3x - 6 = 16 \\end{equation}\n",
    "\n",
    "Now we can group our like terms:\n",
    "\n",
    "\\begin{equation}7x + 2 = 16 \\end{equation}\n",
    "\n",
    "Then we move the constant to the other side:\n",
    "\n",
    "\\begin{equation}7x = 14 \\end{equation}\n",
    "\n",
    "And now we can deal with the coefficient:\n",
    "\n",
    "\\begin{equation}\\frac{7x}{7} = \\frac{14}{7} \\end{equation}\n",
    "\n",
    "Which gives us our anwer:\n",
    "\n",
    "\\begin{equation}x = 2 \\end{equation}\n",
    "\n",
    "Here's the original equation with the calculated value for *x* in Python:"
   ]
  },
  {
   "cell_type": "code",
   "execution_count": 5,
   "id": "d315c1f0",
   "metadata": {
    "ExecuteTime": {
     "end_time": "2022-09-13T22:08:24.890661Z",
     "start_time": "2022-09-13T22:08:24.872579Z"
    }
   },
   "outputs": [
    {
     "data": {
      "text/plain": [
       "True"
      ]
     },
     "execution_count": 5,
     "metadata": {},
     "output_type": "execute_result"
    }
   ],
   "source": [
    "x = 2\n",
    "4*(x + 2) + 3*(x - 2) == 16"
   ]
  },
  {
   "cell_type": "markdown",
   "id": "1cc173ba",
   "metadata": {},
   "source": [
    "# Linear Equations"
   ]
  },
  {
   "cell_type": "markdown",
   "id": "32425b26",
   "metadata": {},
   "source": [
    "y1 (score ) = m1 * sub1 + m2 * sub2 + m3 * sub3 + c <br>\n",
    "y2 (score ) = m1 * sub1 + m2 * sub2 + m3 * sub3 + c "
   ]
  },
  {
   "cell_type": "markdown",
   "id": "763b5ddd",
   "metadata": {},
   "source": [
    "# Systems of Equations\n",
    "Imagine you are at a casino, and you have a mixture of £10 and £25 chips. You know that you have a total of 16 chips, and you also know that the total value of chips you have is £250. Is this enough information to determine how many of each denomination of chip you have?\n",
    "\n",
    "Well, we can express each of the facts that we have as an equation. The first equation deals with the total number of chips - we know that this is 16, and that it is the number of £10 chips (which we'll call ***x*** ) added to the number of £25 chips (***y***).\n",
    "\n",
    "The second equation deals with the total value of the chips (£250), and we know that this is made up of ***x*** chips worth £10 and ***y*** chips worth £25.\n",
    "\n",
    "Here are the equations\n",
    "\n",
    "\\begin{equation}x + y = 16 \\end{equation}\n",
    "\\begin{equation}10x + 25y = 250 \\end{equation}\n",
    "\n",
    "Taken together, these equations form a *system of equations* that will enable us to determine how many of each chip denomination we have.\n",
    "\n",
    "## Graphing Lines to Find the Intersection Point\n",
    "One approach is to determine all possible values for x and y in each equation and plot them.\n",
    "\n",
    "A collection of 16 chips could be made up of 16 £10 chips and no £25 chips, no £10 chips and 16 £25 chips, or any combination between these.\n",
    "\n",
    "Similarly, a total of £250 could be made up of 25 £10 chips and no £25 chips, no £10 chips and 10 £25 chips, or a combination in between.\n",
    "\n",
    "Let's plot each of these ranges of values as lines on a graph:"
   ]
  },
  {
   "cell_type": "code",
   "execution_count": 6,
   "id": "a77a1b1e",
   "metadata": {
    "ExecuteTime": {
     "end_time": "2022-09-13T22:10:06.275120Z",
     "start_time": "2022-09-13T22:10:02.594091Z"
    }
   },
   "outputs": [
    {
     "data": {
      "image/png": "[encoded data removed]",
      "text/plain": [
       "<Figure size 432x288 with 1 Axes>"
      ]
     },
     "metadata": {
      "needs_background": "light"
     },
     "output_type": "display_data"
    }
   ],
   "source": [
    "%matplotlib inline\n",
    "from matplotlib import pyplot as plt\n",
    "\n",
    "# Get the extremes for number of chips\n",
    "chipsAll10s = [16, 0]\n",
    "chipsAll25s = [0, 16]\n",
    "\n",
    "\n",
    "# Get the extremes for values\n",
    "valueAll10s = [25,0]\n",
    "valueAll25s = [0,10]\n",
    "\n",
    "# Plot the lines\n",
    "plt.plot(chipsAll10s,chipsAll25s, color='blue')\n",
    "plt.plot(valueAll10s, valueAll25s, color=\"orange\")\n",
    "plt.xlabel('x (£10 chips)')\n",
    "plt.ylabel('y (£25 chips)')\n",
    "plt.grid()\n",
    "\n",
    "plt.show()"
   ]
  },
  {
   "cell_type": "markdown",
   "id": "deb89688",
   "metadata": {},
   "source": [
    "Looking at the graph, you can see that there is only a single combination of £10 and £25 chips that is on both the line for all possible combinations of 16 chips and the line for all possible combinations of £250. The point where the line intersects is (10, 6); or put another way, there are ten £10 chips and six £25 chips.\n",
    "\n",
    "### Solving a System of Equations with Elimination\n",
    "You can also solve a system of equations mathematically. Let's take a look at our two equations:\n",
    "\n",
    "\\begin{equation}x + y = 16 \\end{equation}\n",
    "\\begin{equation}10x + 25y = 250 \\end{equation}\n",
    "\n",
    "We can combine these equations to eliminate one of the variable terms and solve the resulting equation to find the value of one of the variables. Let's start by combining the equations and eliminating the x term.\n",
    "\n",
    "We can combine the equations by adding them together, but first, we need to manipulate one of the equations so that adding them will eliminate the x term. The first equation includes the term ***x***, and the second includes the term ***10x***, so if we multiply the first equation by -10, the two x terms will cancel each other out. So here are the equations with the first one multiplied by -10:\n",
    "\n",
    "\\begin{equation}-10(x + y) = -10(16) \\end{equation}\n",
    "\\begin{equation}10x + 25y = 250 \\end{equation}\n",
    "\n",
    "After we apply the multiplication to all of the terms in the first equation, the system of equations look like this:\n",
    "\n",
    "\\begin{equation}-10x + -10y = -160 \\end{equation}\n",
    "\\begin{equation}10x + 25y = 250 \\end{equation}\n",
    "\n",
    "Now we can combine the equations by adding them. The ***-10x*** and ***10x*** cancel one another, leaving us with a single equation like this:\n",
    "\n",
    "\\begin{equation}15y = 90 \\end{equation}\n",
    "\n",
    "We can isolate ***y*** by dividing both sides by 15:\n",
    "\n",
    "\\begin{equation}y = \\frac{90}{15} \\end{equation}\n",
    "\n",
    "So now we have a value for ***y***:\n",
    "\n",
    "\\begin{equation}y = 6 \\end{equation}\n",
    "\n",
    "So how does that help us? Well, now we have a value for ***y*** that satisfies both equations. We can simply use it in either of the equations to determine the value of ***x***. Let's use the first one:\n",
    "\n",
    "\\begin{equation}x + 6 = 16 \\end{equation}\n",
    "\n",
    "When we work through this equation, we get a value for ***x***:\n",
    "\n",
    "\\begin{equation}x = 10 \\end{equation}\n",
    "\n",
    "So now we've calculated values for ***x*** and ***y***, and we find, just as we did with the graphical intersection method, that there are ten £10 chips and six £25 chips.\n",
    "\n",
    "You can run the following Python code to verify that the equations are both true with an ***x*** value of 10 and a ***y*** value of 6."
   ]
  },
  {
   "cell_type": "code",
   "execution_count": 7,
   "id": "c13a14bb",
   "metadata": {
    "ExecuteTime": {
     "end_time": "2022-09-13T22:10:28.409524Z",
     "start_time": "2022-09-13T22:10:28.394947Z"
    }
   },
   "outputs": [
    {
     "name": "stdout",
     "output_type": "stream",
     "text": [
      "True\n"
     ]
    }
   ],
   "source": [
    "x = 10\n",
    "y = 6\n",
    "print ((x + y == 16) & ((10*x) + (25*y) == 250))"
   ]
  },
  {
   "cell_type": "markdown",
   "id": "dbedeb56",
   "metadata": {},
   "source": [
    "y1 (score ) = m1 * sub1 + m2 * sub2 + m3 * sub3 + c <br>\n",
    "y2 (score ) = m1 * sub1 + m2 * sub2 + m3 * sub3 + c "
   ]
  },
  {
   "cell_type": "markdown",
   "id": "f733fa3a",
   "metadata": {},
   "source": [
    "# Systems of Equations\n",
    "Imagine you are at a casino, and you have a mixture of £10 and £25 chips. You know that you have a total of 16 chips, and you also know that the total value of chips you have is £250. Is this enough information to determine how many of each denomination of chip you have?\n",
    "\n",
    "Well, we can express each of the facts that we have as an equation. The first equation deals with the total number of chips - we know that this is 16, and that it is the number of £10 chips (which we'll call ***x*** ) added to the number of £25 chips (***y***).\n",
    "\n",
    "The second equation deals with the total value of the chips (£250), and we know that this is made up of ***x*** chips worth £10 and ***y*** chips worth £25.\n",
    "\n",
    "Here are the equations\n",
    "\n",
    "\\begin{equation}x + y = 16 \\end{equation}\n",
    "\\begin{equation}10x + 25y = 250 \\end{equation}\n",
    "\n",
    "Taken together, these equations form a *system of equations* that will enable us to determine how many of each chip denomination we have.\n",
    "\n",
    "## Graphing Lines to Find the Intersection Point\n",
    "One approach is to determine all possible values for x and y in each equation and plot them.\n",
    "\n",
    "A collection of 16 chips could be made up of 16 £10 chips and no £25 chips, no £10 chips and 16 £25 chips, or any combination between these.\n",
    "\n",
    "Similarly, a total of £250 could be made up of 25 £10 chips and no £25 chips, no £10 chips and 10 £25 chips, or a combination in between.\n",
    "\n",
    "Let's plot each of these ranges of values as lines on a graph:"
   ]
  },
  {
   "cell_type": "code",
   "execution_count": 8,
   "id": "27409bb5",
   "metadata": {
    "ExecuteTime": {
     "end_time": "2022-09-13T22:11:35.797523Z",
     "start_time": "2022-09-13T22:11:35.655017Z"
    }
   },
   "outputs": [
    {
     "data": {
      "image/png": "[encoded data removed]",
      "text/plain": [
       "<Figure size 432x288 with 1 Axes>"
      ]
     },
     "metadata": {
      "needs_background": "light"
     },
     "output_type": "display_data"
    }
   ],
   "source": [
    "%matplotlib inline\n",
    "from matplotlib import pyplot as plt\n",
    "\n",
    "# Get the extremes for number of chips\n",
    "chipsAll10s = [16, 0]\n",
    "chipsAll25s = [0, 16]\n",
    "\n",
    "\n",
    "# Get the extremes for values\n",
    "valueAll10s = [25,0]\n",
    "valueAll25s = [0,10]\n",
    "\n",
    "# Plot the lines\n",
    "plt.plot(chipsAll10s,chipsAll25s, color='blue')\n",
    "plt.plot(valueAll10s, valueAll25s, color=\"orange\")\n",
    "plt.xlabel('x (£10 chips)')\n",
    "plt.ylabel('y (£25 chips)')\n",
    "plt.grid()\n",
    "\n",
    "plt.show()"
   ]
  },
  {
   "cell_type": "markdown",
   "id": "f0cc1b28",
   "metadata": {},
   "source": [
    "Looking at the graph, you can see that there is only a single combination of £10 and £25 chips that is on both the line for all possible combinations of 16 chips and the line for all possible combinations of £250. The point where the line intersects is (10, 6); or put another way, there are ten £10 chips and six £25 chips.\n",
    "\n",
    "### Solving a System of Equations with Elimination\n",
    "You can also solve a system of equations mathematically. Let's take a look at our two equations:\n",
    "\n",
    "\\begin{equation}x + y = 16 \\end{equation}\n",
    "\\begin{equation}10x + 25y = 250 \\end{equation}\n",
    "\n",
    "We can combine these equations to eliminate one of the variable terms and solve the resulting equation to find the value of one of the variables. Let's start by combining the equations and eliminating the x term.\n",
    "\n",
    "We can combine the equations by adding them together, but first, we need to manipulate one of the equations so that adding them will eliminate the x term. The first equation includes the term ***x***, and the second includes the term ***10x***, so if we multiply the first equation by -10, the two x terms will cancel each other out. So here are the equations with the first one multiplied by -10:\n",
    "\n",
    "\\begin{equation}-10(x + y) = -10(16) \\end{equation}\n",
    "\\begin{equation}10x + 25y = 250 \\end{equation}\n",
    "\n",
    "After we apply the multiplication to all of the terms in the first equation, the system of equations look like this:\n",
    "\n",
    "\\begin{equation}-10x + -10y = -160 \\end{equation}\n",
    "\\begin{equation}10x + 25y = 250 \\end{equation}\n",
    "\n",
    "Now we can combine the equations by adding them. The ***-10x*** and ***10x*** cancel one another, leaving us with a single equation like this:\n",
    "\n",
    "\\begin{equation}15y = 90 \\end{equation}\n",
    "\n",
    "We can isolate ***y*** by dividing both sides by 15:\n",
    "\n",
    "\\begin{equation}y = \\frac{90}{15} \\end{equation}\n",
    "\n",
    "So now we have a value for ***y***:\n",
    "\n",
    "\\begin{equation}y = 6 \\end{equation}\n",
    "\n",
    "So how does that help us? Well, now we have a value for ***y*** that satisfies both equations. We can simply use it in either of the equations to determine the value of ***x***. Let's use the first one:\n",
    "\n",
    "\\begin{equation}x + 6 = 16 \\end{equation}\n",
    "\n",
    "When we work through this equation, we get a value for ***x***:\n",
    "\n",
    "\\begin{equation}x = 10 \\end{equation}\n",
    "\n",
    "So now we've calculated values for ***x*** and ***y***, and we find, just as we did with the graphical intersection method, that there are ten £10 chips and six £25 chips.\n",
    "\n",
    "You can run the following Python code to verify that the equations are both true with an ***x*** value of 10 and a ***y*** value of 6."
   ]
  },
  {
   "cell_type": "code",
   "execution_count": 9,
   "id": "68e512cb",
   "metadata": {
    "ExecuteTime": {
     "end_time": "2022-09-13T22:12:01.406694Z",
     "start_time": "2022-09-13T22:12:01.398666Z"
    }
   },
   "outputs": [
    {
     "name": "stdout",
     "output_type": "stream",
     "text": [
      "True\n"
     ]
    }
   ],
   "source": [
    "x = 10\n",
    "y = 6\n",
    "print ((x + y == 16) & ((10*x) + (25*y) == 250))"
   ]
  },
  {
   "cell_type": "markdown",
   "id": "f3ff89d7",
   "metadata": {},
   "source": [
    "x^3 = 27\n",
    "\n",
    "x = 3 \n",
    "\n",
    "y = (𝑥^4+2)*(2𝑥^2+3𝑥−3)"
   ]
  },
  {
   "cell_type": "markdown",
   "id": "ab6f4eea",
   "metadata": {},
   "source": [
    "# Polynomials\n",
    "Some of the equations we've looked at so far include expressions that are actually *polynomials*; but what *is* a polynomial, and why should you care?\n",
    "\n",
    "A polynomial is an algebraic expression containing one or more *terms* that each meet some specific criteria. Specifically:\n",
    "- Each term can contain:\n",
    " - Numeric values that are coefficients or constants (for example 2, -5, <sup>1</sup>/<sub>7</sub>)\n",
    " - Variables (for example, x, y)\n",
    " - Non-negative integer exponents (for example <sup>2</sup>, <sup>64</sup>)\n",
    "- The terms can be combined using arithmetic operations - but **not** division by a variable.\n",
    "\n",
    "For example, the following expression is a polynomial:\n",
    "\n",
    "\\begin{equation}12x^{3} + 2x - 16 \\end{equation}\n",
    "\n",
    "When identifying the terms in a polynomial, it's important to correctly interpret the arithmetic addition and subtraction operators as the sign for the term that follows. For example, the polynomial above contains the following three terms:\n",
    "- 12x<sup>3</sup>\n",
    "- 2x\n",
    "- -16\n",
    "\n",
    "The terms themselves include:\n",
    "- Two coefficients(12 and 2) and a constant (-16)\n",
    "- A variable (x)\n",
    "- An exponent (<sup>3</sup>)\n",
    "\n",
    "A polynomial that contains three terms is also known as a *trinomial*. Similarly, a polynomial with two terms is known as a *binomial* and a polynomial with only one term is known as a *monomial*.\n",
    "\n",
    "So why do we care? Well, polynomials have some useful properties that make them easy to work with. for example, if you multiply, add, or subtract a polynomial, the result is always another polynomial.\n",
    "\n",
    "## Standard Form for Polynomials\n",
    "Techbnically, you can write the terms of a polynomial in any order; but the *standard form* for a polynomial is to start with the highest *degree* first and constants last. The degree of a term is the highest order (exponent) in the term, and the highest order in a polynomial determines the degree of the polynomial itself.\n",
    "\n",
    "For example, consider the following expression:\n",
    "\\begin{equation}3x + 4xy^{2} - 3 + x^{3} \\end{equation}\n",
    "\n",
    "To express this as a polynomial in the standard form, we need to re-order the terms like this:\n",
    "\n",
    "\\begin{equation}x^{3} + 4xy^{2} + 3x - 3 \\end{equation}\n",
    "\n",
    "## Simplifying Polynomials\n",
    "We saw previously how you can simplify an equation by combining *like terms*. You can simplify polynomials in the same way.\n",
    "\n",
    "For example, look at the following polynomial:\n",
    "\n",
    "\\begin{equation}x^{3} + 2x^{3} - 3x - x + 8 - 3 \\end{equation}\n",
    "\n",
    "In this case, we can combine x<sup>3</sup> and 2x<sup>3</sup> by adding them to make 3x<sup>3</sup>. Then we can add -3x and -x (which is really just a shorthand way to say -1x) to get -4x, and then add 8 and -3 to get 5. Our simplified polynomial then looks like this:\n",
    "\n",
    "\\begin{equation}3x^{3} - 4x + 5 \\end{equation}\n",
    "\n",
    "We can use Python to compare the original and simplified polynomials to check them - using an arbitrary random value for ***x***:"
   ]
  },
  {
   "cell_type": "code",
   "execution_count": 10,
   "id": "62e43491",
   "metadata": {
    "ExecuteTime": {
     "end_time": "2022-09-13T22:12:54.671108Z",
     "start_time": "2022-09-13T22:12:54.657986Z"
    }
   },
   "outputs": [
    {
     "data": {
      "text/plain": [
       "True"
      ]
     },
     "execution_count": 10,
     "metadata": {},
     "output_type": "execute_result"
    }
   ],
   "source": [
    "from random import randint\n",
    "x = randint(1,100)\n",
    "\n",
    "(x**3 + 2*x**3 - 3*x - x + 8 - 3) == (3*x**3 - 4*x + 5)"
   ]
  },
  {
   "cell_type": "markdown",
   "id": "76787d28",
   "metadata": {},
   "source": [
    "## Adding Polynomials\n",
    "When you add two polynomials, the result is a polynomial. Here's an example:\n",
    "\n",
    "\\begin{equation}(3x^{3} - 4x + 5)   +   (2x^{3} + 3x^{2} - 2x + 2) \\end{equation}\n",
    "\n",
    "because this is an addition operation, you can simply add all of the like terms from both polynomials. To make this clear, let's first put the like terms together:\n",
    "\n",
    "\\begin{equation}3x^{3} + 2x^{3} + 3x^{2} - 4x -2x + 5 + 2 \\end{equation}\n",
    "\n",
    "This simplifies to:\n",
    "\n",
    "\\begin{equation}5x^{3} + 3x^{2} - 6x + 7 \\end{equation}\n",
    "\n",
    "We can verify this with Python:"
   ]
  },
  {
   "cell_type": "code",
   "execution_count": 11,
   "id": "8379374b",
   "metadata": {
    "ExecuteTime": {
     "end_time": "2022-09-13T22:13:20.517158Z",
     "start_time": "2022-09-13T22:13:20.493174Z"
    }
   },
   "outputs": [
    {
     "data": {
      "text/plain": [
       "True"
      ]
     },
     "execution_count": 11,
     "metadata": {},
     "output_type": "execute_result"
    }
   ],
   "source": [
    "from random import randint\n",
    "x = randint(1,100)\n",
    "\n",
    "\n",
    "(3*x**3 - 4*x + 5) + (2*x**3 + 3*x**2 - 2*x + 2) == 5*x**3 + 3*x**2 - 6*x + 7"
   ]
  },
  {
   "cell_type": "markdown",
   "id": "dbc5c0b2",
   "metadata": {},
   "source": [
    "## Subtracting Polynomials\n",
    "Subtracting polynomials is similar to adding them but you need to take into account that one of the polynomials is a negative.\n",
    "\n",
    "Consider this expression:\n",
    "\n",
    "\\begin{equation}(2x^{2} - 4x + 5)   -   (x^{2} - 2x + 2) \\end{equation}\n",
    "\n",
    "The key to performing this calculation is to realize that the subtraction of the second polynomial is really an expression that adds -1(x<sup>2</sup> - 2x + 2); so you can use the distributive property to multiply each of the terms in the polynomial by -1 (which in effect simply reverses the sign for each term). So our expression becomes:\n",
    "\n",
    "\\begin{equation}(2x^{2} - 4x + 5)   +   (-x^{2} + 2x - 2) \\end{equation}\n",
    "\n",
    "Which we can solve as an addition problem. First place the like terms together:\n",
    "\n",
    "\\begin{equation}2x^{2} + -x^{2} + -4x + 2x + 5 + -2 \\end{equation}\n",
    "\n",
    "Which simplifies to:\n",
    "\n",
    "\\begin{equation}x^{2} - 2x + 3 \\end{equation}\n",
    "\n",
    "Let's check that with Python:"
   ]
  },
  {
   "cell_type": "code",
   "execution_count": 12,
   "id": "f5cb3206",
   "metadata": {
    "ExecuteTime": {
     "end_time": "2022-09-13T22:13:38.500447Z",
     "start_time": "2022-09-13T22:13:38.484449Z"
    }
   },
   "outputs": [
    {
     "data": {
      "text/plain": [
       "True"
      ]
     },
     "execution_count": 12,
     "metadata": {},
     "output_type": "execute_result"
    }
   ],
   "source": [
    "from random import randint\n",
    "x = randint(1,100)\n",
    "\n",
    "(2*x**2 - 4*x + 5) - (x**2 - 2*x + 2) == x**2 - 2*x + 3"
   ]
  },
  {
   "cell_type": "markdown",
   "id": "930562a4",
   "metadata": {},
   "source": [
    "## Multiplying Polynomials\n",
    "To multiply two polynomials, you need to perform the following two steps:\n",
    "1. Multiply each term in the first polynomial by each term in the second polynomial.\n",
    "2. Add the results of the multiplication operations, combining like terms where possible.\n",
    "\n",
    "For example, consider this expression:\n",
    "\n",
    "\\begin{equation}(x^{4} + 2)(2x^{2} + 3x - 3) \\end{equation}\n",
    "\n",
    "Let's do the first step and multiply each term in the first polynomial by each term in the second polynomial. The first term in the first polynomial is x<sup>4</sup>, and the first term in the second polynomial is 2x<sup>2</sup>, so multiplying these gives us 2x<sup>6</sup>. Then we can multiply the first term in the first polynomial (x<sup>4</sup>) by the second term in the second polynomial (3x), which gives us 3x<sup>5</sup>, and so on until we've multipled all of the terms in the first polynomial by all of the terms in the second polynomial, which results in this:\n",
    "\n",
    "\\begin{equation}2x^{6} + 3x^{5} - 3x^{4} + 4x^{2} + 6x - 6 \\end{equation}\n",
    "\n",
    "We can verify a match between this result and the original expression this with the following Python code:"
   ]
  },
  {
   "cell_type": "code",
   "execution_count": 13,
   "id": "9ba637ef",
   "metadata": {
    "ExecuteTime": {
     "end_time": "2022-09-13T22:14:01.977549Z",
     "start_time": "2022-09-13T22:14:01.947926Z"
    }
   },
   "outputs": [
    {
     "data": {
      "text/plain": [
       "True"
      ]
     },
     "execution_count": 13,
     "metadata": {},
     "output_type": "execute_result"
    }
   ],
   "source": [
    "from random import randint\n",
    "x = randint(1,100)\n",
    "\n",
    "(x**4 + 2)*(2*x**2 + 3*x - 3) == 2*x**6 + 3*x**5 - 3*x**4 + 4*x**2 + 6*x - 6"
   ]
  },
  {
   "cell_type": "markdown",
   "id": "b0538419",
   "metadata": {},
   "source": [
    "## Dividing Polynomials\n",
    "When you need to divide one polynomial by another, there are two approaches you can take depending on the number of terms in the divisor (the expression you're dividing by).\n",
    "\n",
    "### Dividing Polynomials Using Simplification\n",
    "In the simplest case, division of a polynomial by a monomial, the operation is really just simplification of a fraction.\n",
    "\n",
    "For example, consider the following expression:\n",
    "\n",
    "\\begin{equation}(4x + 6x^{2}) \\div 2x \\end{equation}\n",
    "\n",
    "This can also be written as:\n",
    "\n",
    "\\begin{equation}\\frac{4x + 6x^{2}}{2x} \\end{equation}\n",
    "\n",
    "One approach to simplifying this fraction is to split it it into a separate fraction for each term in the dividend (the expression we're dividing), like this:\n",
    "\n",
    "\\begin{equation}\\frac{4x}{2x} + \\frac{6x^{2}}{2x}\\end{equation}\n",
    "\n",
    "Then we can simplify each fraction and add the results. For the first fraction, 2x goes into 4x twice, so the fraction simplifies to 2; and for the second, 6x<sup>2</sup> is 2x mutliplied by 3x. So our answer is 2 + 3x:\n",
    "\n",
    "\\begin{equation}2 + 3x\\end{equation}\n",
    "\n",
    "Let's use Python to compare the original fraction with the simplified result for an arbitrary value of ***x***:"
   ]
  },
  {
   "cell_type": "code",
   "execution_count": 14,
   "id": "73810834",
   "metadata": {
    "ExecuteTime": {
     "end_time": "2022-09-13T22:14:19.436092Z",
     "start_time": "2022-09-13T22:14:19.428172Z"
    }
   },
   "outputs": [
    {
     "data": {
      "text/plain": [
       "True"
      ]
     },
     "execution_count": 14,
     "metadata": {},
     "output_type": "execute_result"
    }
   ],
   "source": [
    "from random import randint\n",
    "x = randint(1,100)\n",
    "\n",
    "(4*x + 6*x**2) / (2*x) == 2 + 3*x"
   ]
  },
  {
   "cell_type": "markdown",
   "id": "fef86b92",
   "metadata": {},
   "source": [
    "### Dividing Polynomials Using Long Division\n",
    "Things get a little more complicated for divisors with more than one term.\n",
    "\n",
    "Suppose we have the following expression:\n",
    "\\begin{equation}(x^{2} + 2x - 3) \\div (x - 2) \\end{equation}\n",
    "\n",
    "Another way of writing this is to use the long-division format, like this:\n",
    "\\begin{equation} x - 2 |\\overline{x^{2} + 2x - 3} \\end{equation}\n",
    "\n",
    "We begin long-division by dividing the highest order divisor into the highest order dividend - so in this case we divide x into x<sup>2</sup>. X goes into x<sup>2</sup> x times, so we put an x on top and then multiply it through the divisor:\n",
    "\\begin{equation} \\;\\;\\;\\;x \\end{equation}\n",
    "\\begin{equation}x - 2 |\\overline{x^{2} + 2x - 3} \\end{equation}\n",
    "\\begin{equation} \\;x^{2} -2x \\end{equation}\n",
    "\n",
    "Now we'll subtract the remaining dividend, and then carry down the -3 that we haven't used to see what's left:\n",
    "\\begin{equation} \\;\\;\\;\\;x \\end{equation}\n",
    "\\begin{equation}x - 2 |\\overline{x^{2} + 2x - 3} \\end{equation}\n",
    "\\begin{equation}- (x^{2} -2x) \\end{equation}\n",
    "\\begin{equation}\\;\\;\\;\\;\\;\\overline{\\;\\;\\;\\;\\;\\;\\;\\;\\;\\;4x -3} \\end{equation}\n",
    "\n",
    "OK, now we'll divide our highest order divisor into the highest order of the remaining dividend. In this case, x goes into 4x four times, so we'll add a 4 to the top line, multiply it through the divisor, and subtract the remaining dividend:\n",
    "\\begin{equation} \\;\\;\\;\\;\\;\\;\\;\\;x + 4 \\end{equation}\n",
    "\\begin{equation}x - 2 |\\overline{x^{2} + 2x - 3} \\end{equation}\n",
    "\\begin{equation}- (x^{2} -2x) \\end{equation}\n",
    "\\begin{equation}\\;\\;\\;\\;\\;\\overline{\\;\\;\\;\\;\\;\\;\\;\\;\\;\\;4x -3} \\end{equation}\n",
    "\\begin{equation}- (\\;\\;\\;\\;\\;\\;\\;\\;\\;\\;\\;\\;4x -8) \\end{equation}\n",
    "\\begin{equation}\\;\\;\\;\\;\\;\\overline{\\;\\;\\;\\;\\;\\;\\;\\;\\;\\;\\;\\;\\;\\;\\;\\;5} \\end{equation}\n",
    "\n",
    "We're now left with just 5, which we can't divide further by x - 2; so that's our remainder, which we'll add as a fraction.\n",
    "\n",
    "The solution to our division problem is:\n",
    "\n",
    "\\begin{equation}x + 4 + \\frac{5}{x-2} \\end{equation}\n",
    "\n",
    "Once again, we can use Python to check our answer:"
   ]
  },
  {
   "cell_type": "code",
   "execution_count": 16,
   "id": "1a5e53e8",
   "metadata": {
    "ExecuteTime": {
     "end_time": "2022-09-13T22:14:42.420829Z",
     "start_time": "2022-09-13T22:14:42.403263Z"
    }
   },
   "outputs": [
    {
     "data": {
      "text/plain": [
       "True"
      ]
     },
     "execution_count": 16,
     "metadata": {},
     "output_type": "execute_result"
    }
   ],
   "source": [
    "from random import randint\n",
    "x = randint(3,100)\n",
    "\n",
    "(x**2 + 2*x -3)/(x-2) == x + 4 + (5/(x-2))                        "
   ]
  },
  {
   "cell_type": "markdown",
   "id": "7104b115",
   "metadata": {},
   "source": [
    "y1 = player salary\n",
    "y2 = palyer age \n",
    "\n",
    "Features: \n",
    "  -   1- number of goals/ season \n",
    "  -  2- fittness rate \n",
    "  -   3- injuries \n",
    "  -   4- participation "
   ]
  },
  {
   "cell_type": "markdown",
   "id": "ca59e564",
   "metadata": {},
   "source": [
    "# Functions\n",
    "So far in this course we've explored equations that perform algebraic operations to produce one or more results. A *function* is a way of encapsulating an operation that takes an input and produces exactly one ouput.\n",
    "\n",
    "For example, consider the following function definition:\n",
    "\n",
    "\\begin{equation}f(x) = x^{2} + 2\\end{equation}\n",
    "\n",
    "This defines a function named ***f*** that accepts one input (***x***) and returns a single value that is the result calculated by the expression *x<sup>2</sup> + 2*.\n",
    "\n",
    "Having defined the function, we can use it for any input value. For example:\n",
    "\n",
    "\\begin{equation}f(3) = 11\\end{equation}\n",
    "\n",
    "You've already seen a few examples of Python functions, which are defined using the **def** keyword. However, the strict definition of an algebraic function is that it must return a single value. Here's an example of defining and using a Python function that meets this criteria:"
   ]
  },
  {
   "cell_type": "code",
   "execution_count": 17,
   "id": "138d119b",
   "metadata": {
    "ExecuteTime": {
     "end_time": "2022-09-13T22:16:08.069685Z",
     "start_time": "2022-09-13T22:16:08.061777Z"
    }
   },
   "outputs": [
    {
     "data": {
      "text/plain": [
       "18"
      ]
     },
     "execution_count": 17,
     "metadata": {},
     "output_type": "execute_result"
    }
   ],
   "source": [
    "# define a function to return x^2 + 2\n",
    "def f(x):\n",
    "    return x**2 + 2\n",
    "\n",
    "# call the function\n",
    "f(4)"
   ]
  },
  {
   "cell_type": "markdown",
   "id": "8d9fe65c",
   "metadata": {},
   "source": [
    "You can use functions in equations, just like any other term. For example, consider the following equation:\n",
    "\n",
    "\\begin{equation}y = f(x) - 1\\end{equation}\n",
    "\n",
    "To calculate a value for ***y***, we take the ***f*** of ***x*** and subtract 1. So assuming that ***f*** is defined as previously, given an ***x*** value of 4, this equation returns a ***y*** value of **17** (*f*(4) returns 4<sup>2</sup> + 2, so 16 + 2 = 18; and then the equation subtracts 1 to give us 17). Here it is in Python:"
   ]
  },
  {
   "cell_type": "code",
   "execution_count": 18,
   "id": "af6d715a",
   "metadata": {
    "ExecuteTime": {
     "end_time": "2022-09-13T22:16:29.434909Z",
     "start_time": "2022-09-13T22:16:29.412545Z"
    }
   },
   "outputs": [
    {
     "name": "stdout",
     "output_type": "stream",
     "text": [
      "17\n"
     ]
    }
   ],
   "source": [
    "x = 4\n",
    "y = f(x) - 1\n",
    "print(y)"
   ]
  },
  {
   "cell_type": "markdown",
   "id": "dfe32ad6",
   "metadata": {},
   "source": [
    "Of course, the value returned by a function depends on the input; and you can graph this with the iput (let's call it ***x***) on one axis and the output (***f(x)***) on the other."
   ]
  },
  {
   "cell_type": "code",
   "execution_count": 19,
   "id": "96e9d62f",
   "metadata": {
    "ExecuteTime": {
     "end_time": "2022-09-13T22:17:12.820663Z",
     "start_time": "2022-09-13T22:17:12.669197Z"
    }
   },
   "outputs": [
    {
     "data": {
      "image/png": "[encoded data removed]",
      "text/plain": [
       "<Figure size 432x288 with 1 Axes>"
      ]
     },
     "metadata": {
      "needs_background": "light"
     },
     "output_type": "display_data"
    }
   ],
   "source": [
    "%matplotlib inline\n",
    "\n",
    "import numpy as np\n",
    "from matplotlib import pyplot as plt\n",
    "\n",
    "# Create an array of x values from -100 to 100\n",
    "x = np.array(range(-100, 101))\n",
    "\n",
    "# Set up the graph\n",
    "plt.xlabel('x')\n",
    "plt.ylabel('f(x)')\n",
    "plt.grid()\n",
    "\n",
    "# Plot x against f(x)\n",
    "plt.plot(x,f(x), color='purple')\n",
    "\n",
    "plt.show()"
   ]
  },
  {
   "cell_type": "markdown",
   "id": "fe3a3795",
   "metadata": {},
   "source": [
    "As you can see (if you hadn't already figured it out), our function is a *quadratic function* - it returns a squared value that results in a parabolic graph when the output for multiple input values are plotted."
   ]
  },
  {
   "cell_type": "markdown",
   "id": "2c0c339d",
   "metadata": {},
   "source": [
    "## Bounds of a Function\n",
    "Some functions will work for any input and may return any output. For example, consider the function ***u*** defined here:\n",
    "\n",
    "\\begin{equation}u(x) = x + 1\\end{equation}\n",
    "\n",
    "This function simply adds 1 to whatever input is passed to it, so it will produce a defined output for any value of ***x*** that is a *real* number; in other words, any \"regular\" number - but not an *imaginary* number like &radic;-1, or &infin; (infinity). You can specify the set of real numbers using the symbol ${\\rm I\\!R}$ (note the double stroke). The values that can be used for ***x*** can be expressed as a *set*, which we indicate by enclosing all of the members of the set in \"{...}\" braces; so to indicate the set of all possible values for x such that x is a member of the set of all real numbers, we can use the following expression:\n",
    "\n",
    "\\begin{equation}\\{x \\in \\rm I\\!R\\}\\end{equation}\n",
    "\n",
    "\n",
    "### Domain of a Function\n",
    "We call the set of numbers for which a function can return value it's *domain*, and in this case, the domain of ***u*** is the set of all real numbers; which is actually the default assumption for most functions.\n",
    "\n",
    "Now consider the following function ***g***:\n",
    "\n",
    "\\begin{equation}g(x) = (\\frac{12}{2x})^{2}\\end{equation}\n",
    "\n",
    "If we use this function with an ***x*** value of **2**, we would get the output **9**; because (12 &div; (2&bull;2))<sup>2</sup> is 9. Similarly, if we use the value **-3** for ***x***, the output will be **4**. However, what happens when we apply this function to an ***x*** value of **0**? Anything divided by 0 is undefined, so the function ***g*** doesn't work for an ***x*** value of 0.\n",
    "\n",
    "So we need a way to denote the domain of the function ***g*** by indicating the input values for which a defined output can be returned. Specifically, we need to restrict ***x*** to a specific list of values - specifically any real number that is not 0. To indicate this, we can use the following notation:\n",
    "\n",
    "\\begin{equation}\\{x \\in \\rm I\\!R\\;\\;|\\;\\; x \\ne 0 \\}\\end{equation}\n",
    "\n",
    "This is interpreted as *Any value for x where x is in the set of real numbers such that x is not equal to 0*, and we can incorporate this into the function's definition like this:\n",
    "\n",
    "\\begin{equation}g(x) = (\\frac{12}{2x})^{2}, \\{x \\in \\rm I\\!R\\;\\;|\\;\\; x \\ne 0 \\}\\end{equation}\n",
    "\n",
    "Or more simply:\n",
    "\n",
    "\\begin{equation}g(x) = (\\frac{12}{2x})^{2},\\;\\; x \\ne 0\\end{equation}\n",
    "\n",
    "When you plot the output of a function, you can indicate the gaps caused by input values that are not in the function's domain by plotting an empty circle to show that the function is not defined at this point:"
   ]
  },
  {
   "cell_type": "code",
   "execution_count": 20,
   "id": "c625fb36",
   "metadata": {
    "ExecuteTime": {
     "end_time": "2022-09-13T22:17:44.535182Z",
     "start_time": "2022-09-13T22:17:44.395335Z"
    }
   },
   "outputs": [
    {
     "data": {
      "image/png": "[encoded data removed]",
      "text/plain": [
       "<Figure size 432x288 with 1 Axes>"
      ]
     },
     "metadata": {
      "needs_background": "light"
     },
     "output_type": "display_data"
    }
   ],
   "source": [
    "%matplotlib inline\n",
    "\n",
    "# Define function g\n",
    "def g(x):\n",
    "    if x != 0:\n",
    "        return (12/(2*x))**2\n",
    "\n",
    "# Plot output from function g\n",
    "import numpy as np\n",
    "from matplotlib import pyplot as plt\n",
    "\n",
    "# Create an array of x values from -100 to 100\n",
    "x = range(-100, 101)\n",
    "\n",
    "# Get the corresponding y values from the function\n",
    "y = [g(a) for a in x]\n",
    "\n",
    "# Set up the graph\n",
    "plt.xlabel('x')\n",
    "plt.ylabel('g(x)')\n",
    "plt.grid()\n",
    "\n",
    "# Plot x against g(x)\n",
    "plt.plot(x,y, color='purple')\n",
    "\n",
    "# plot an empty circle to show the undefined point\n",
    "plt.plot(0,g(0.0000001), color='purple', marker='o', markerfacecolor='w', markersize=8)\n",
    "\n",
    "plt.show()"
   ]
  },
  {
   "cell_type": "markdown",
   "id": "6b28b8d1",
   "metadata": {},
   "source": [
    "Note that the function works for every value other than 0; so the function is defined for x = 0.000000001, and for x = -0.000000001; it only fails to return a defined value for exactly 0.\n",
    "\n",
    "OK, let's take another example. Consider this function:\n",
    "\n",
    "\\begin{equation}h(x) = 2\\sqrt{x}\\end{equation}\n",
    "\n",
    "Applying this function to a non-negative ***x*** value returns a meaningful output; but for any value where ***x*** is negative, the output is undefined.\n",
    "\n",
    "We can indicate the domain of this function in its definition like this:\n",
    "\n",
    "\\begin{equation}h(x) = 2\\sqrt{x}, \\{x \\in \\rm I\\!R\\;\\;|\\;\\; x \\ge 0 \\}\\end{equation}\n",
    "\n",
    "This is interpreted as *Any value for x where x is in the set of real numbers such that x is greater than or equal to 0*.\n",
    "\n",
    "Or, you might see this in a simpler format:\n",
    "\n",
    "\\begin{equation}h(x) = 2\\sqrt{x},\\;\\; x \\ge 0\\end{equation}\n",
    "\n",
    "Note that the symbol &ge; is used to indicate that the value must be *greater than **or equal to*** 0; and this means that **0** is included in the set of valid values. To indicate that the value must be *greater than 0, **not including 0***, use the &gt; symbol. You can also use the equivalent symbols for *less than or equal to* (&le;) and *less than* (&lt;).\n",
    "\n",
    "When plotting a function line that marks the end of a continuous range, the end of the line is shown as a circle, which is filled if the function includes the value at that point, and unfilled if it does not.\n",
    "\n",
    "Here's the Python to plot function ***h***:"
   ]
  },
  {
   "cell_type": "code",
   "execution_count": 21,
   "id": "742431d7",
   "metadata": {
    "ExecuteTime": {
     "end_time": "2022-09-13T22:18:13.267257Z",
     "start_time": "2022-09-13T22:18:13.130424Z"
    }
   },
   "outputs": [
    {
     "data": {
      "image/png": "[encoded data removed]",
      "text/plain": [
       "<Figure size 432x288 with 1 Axes>"
      ]
     },
     "metadata": {
      "needs_background": "light"
     },
     "output_type": "display_data"
    }
   ],
   "source": [
    "%matplotlib inline\n",
    "\n",
    "def h(x):\n",
    "    if x >= 0:\n",
    "        import numpy as np\n",
    "        return 2 * np.sqrt(x)\n",
    "\n",
    "# Plot output from function h\n",
    "import numpy as np\n",
    "from matplotlib import pyplot as plt\n",
    "\n",
    "# Create an array of x values from -100 to 100\n",
    "x = range(-100, 101)\n",
    "\n",
    "# Get the corresponding y values from the function\n",
    "y = [h(a) for a in x]\n",
    "\n",
    "# Set up the graph\n",
    "plt.xlabel('x')\n",
    "plt.ylabel('h(x)')\n",
    "plt.grid()\n",
    "\n",
    "# Plot x against h(x)\n",
    "plt.plot(x,y, color='purple')\n",
    "\n",
    "# plot a filled circle at the end to indicate a closed interval\n",
    "plt.plot(0, h(0), color='purple', marker='o', markerfacecolor='purple', markersize=8)\n",
    "\n",
    "plt.show()"
   ]
  },
  {
   "cell_type": "markdown",
   "id": "a6d6ceb8",
   "metadata": {},
   "source": [
    "Sometimes, a function may be defined for a specific *interval*; for example, for all values between 0 and 5:\n",
    "\n",
    "\\begin{equation}j(x) = x + 2,\\;\\; x \\ge 0 \\text{ and } x \\le 5\\end{equation}\n",
    "\n",
    "In this case, the function is defined for ***x*** values between 0 and 5 *inclusive*; in other words, **0** and **5** are included in the set of defined values. This is known as a *closed* interval and can be indicated like this:\n",
    "\n",
    "\\begin{equation}\\{x \\in \\rm I\\!R\\;\\;|\\;\\; 0 \\le x \\le 5 \\}\\end{equation}\n",
    "\n",
    "It could also be indicated like this:\n",
    "\n",
    "\\begin{equation}\\{x \\in \\rm I\\!R\\;\\;|\\;\\; [0,5] \\}\\end{equation}\n",
    "\n",
    "If the condition in the function was **x > 0 and x < 5**, then the interval would be described as *open* and 0 and 5 would *not* be included in the set of defined values. This would be indicated using one of the following expressions:\n",
    "\n",
    "\\begin{equation}\\{x \\in \\rm I\\!R\\;\\;|\\;\\; 0 \\lt x \\lt 5 \\}\\end{equation}\n",
    "\\begin{equation}\\{x \\in \\rm I\\!R\\;\\;|\\;\\; (0,5) \\}\\end{equation}\n",
    "\n",
    "Here's function ***j*** in Python:"
   ]
  },
  {
   "cell_type": "code",
   "execution_count": 22,
   "id": "ae53cf94",
   "metadata": {
    "ExecuteTime": {
     "end_time": "2022-09-13T22:18:34.314311Z",
     "start_time": "2022-09-13T22:18:34.179111Z"
    }
   },
   "outputs": [
    {
     "data": {
      "image/png": "[encoded data removed]",
      "text/plain": [
       "<Figure size 432x288 with 1 Axes>"
      ]
     },
     "metadata": {
      "needs_background": "light"
     },
     "output_type": "display_data"
    }
   ],
   "source": [
    "%matplotlib inline\n",
    "\n",
    "def j(x):\n",
    "    if x >= 0 and x <= 5:\n",
    "        return x + 2\n",
    "\n",
    "    \n",
    "# Plot output from function j\n",
    "import numpy as np\n",
    "from matplotlib import pyplot as plt\n",
    "\n",
    "# Create an array of x values from -100 to 100\n",
    "x = range(-100, 101)\n",
    "y = [j(a) for a in x]\n",
    "\n",
    "# Set up the graph\n",
    "plt.xlabel('x')\n",
    "plt.ylabel('j(x)')\n",
    "plt.grid()\n",
    "\n",
    "# Plot x against k(x)\n",
    "plt.plot(x, y, color='purple')\n",
    "\n",
    "# plot a filled circle at the ends to indicate an open interval\n",
    "plt.plot(0, j(0), color='purple', marker='o', markerfacecolor='purple', markersize=8)\n",
    "plt.plot(5, j(5), color='purple', marker='o', markerfacecolor='purple', markersize=8)\n",
    "\n",
    "plt.show()"
   ]
  },
  {
   "cell_type": "markdown",
   "id": "57c1f7d6",
   "metadata": {},
   "source": [
    "Now, suppose we have a function like this:\n",
    "\n",
    "\\begin{equation}\n",
    "k(x) = \\begin{cases}\n",
    "  0, & \\text{if } x = 0, \\\\\n",
    "  1, & \\text{if } x = 100\n",
    "\\end{cases}\n",
    "\\end{equation}\n",
    "\n",
    "In this case, the function has highly restricted domain; it only returns a defined output for 0 and 100. No output for any other ***x*** value is defined. In this case, the set of the domain is:\n",
    "\n",
    "\\begin{equation}\\{0,100\\}\\end{equation}\n",
    "\n",
    "Note that this does not include all real numbers, it only includes 0 and 100.\n",
    "\n",
    "When we use Python to plot this function, note that it only makes sense to plot a scatter plot showing the individual values returned, there is no line in between because the function is not continuous between the values within the domain. "
   ]
  },
  {
   "cell_type": "code",
   "execution_count": 23,
   "id": "933a7e22",
   "metadata": {
    "ExecuteTime": {
     "end_time": "2022-09-13T22:18:53.809948Z",
     "start_time": "2022-09-13T22:18:53.666046Z"
    }
   },
   "outputs": [
    {
     "data": {
      "image/png": "[encoded data removed]",
      "text/plain": [
       "<Figure size 432x288 with 1 Axes>"
      ]
     },
     "metadata": {
      "needs_background": "light"
     },
     "output_type": "display_data"
    }
   ],
   "source": [
    "%matplotlib inline\n",
    "\n",
    "def k(x):\n",
    "    if x == 0:\n",
    "        return 0\n",
    "    elif x == 100:\n",
    "        return 1\n",
    "\n",
    "    \n",
    "# Plot output from function k\n",
    "from matplotlib import pyplot as plt\n",
    "\n",
    "# Create an array of x values from -100 to 100\n",
    "x = range(-100, 101)\n",
    "# Get the k(x) values for every value in x\n",
    "y = [k(a) for a in x]\n",
    "\n",
    "# Set up the graph\n",
    "plt.xlabel('x')\n",
    "plt.ylabel('k(x)')\n",
    "plt.grid()\n",
    "\n",
    "# Plot x against k(x)\n",
    "plt.scatter(x, y, color='purple')\n",
    "\n",
    "plt.show()"
   ]
  },
  {
   "cell_type": "markdown",
   "id": "06ad6e46",
   "metadata": {
    "ExecuteTime": {
     "end_time": "2022-09-13T22:19:04.642246Z",
     "start_time": "2022-09-13T22:19:04.626256Z"
    }
   },
   "source": [
    "### Range of a Function\n",
    "Just as the domain of a function defines the set of values for which the function is defined, the *range* of a function defines the set of possible outputs from the function.\n",
    "\n",
    "For example, consider the following function:\n",
    "\n",
    "\\begin{equation}p(x) = x^{2} + 1\\end{equation}\n",
    "\n",
    "The domain of this function is all real numbers. However, this is a quadratic function, so the output values will form a parabola; and since the function has no negative coefficient or constant, it will be an upward opening parabola with a vertex that has a y value of 1.\n",
    "\n",
    "So what does that tell us? Well, the minimum value that will be returned by this function is 1, so it's range is:\n",
    "\n",
    "\\begin{equation}\\{p(x) \\in \\rm I\\!R\\;\\;|\\;\\; p(x) \\ge 1 \\}\\end{equation}\n",
    "\n",
    "Let's create and plot the function for a range of ***x*** values in Python:"
   ]
  },
  {
   "cell_type": "code",
   "execution_count": 25,
   "id": "3b8a7f55",
   "metadata": {
    "ExecuteTime": {
     "end_time": "2022-09-13T22:19:16.626461Z",
     "start_time": "2022-09-13T22:19:16.486624Z"
    }
   },
   "outputs": [
    {
     "data": {
      "image/png": "[encoded data removed]",
      "text/plain": [
       "<Figure size 432x288 with 1 Axes>"
      ]
     },
     "metadata": {
      "needs_background": "light"
     },
     "output_type": "display_data"
    }
   ],
   "source": [
    "%matplotlib inline\n",
    "\n",
    "# define a function to return x^2 + 1\n",
    "def p(x):\n",
    "    return x**2 + 1\n",
    "\n",
    "\n",
    "# Plot the function\n",
    "import numpy as np\n",
    "from matplotlib import pyplot as plt\n",
    "\n",
    "# Create an array of x values from -100 to 100\n",
    "x = np.array(range(-100, 101))\n",
    "\n",
    "# Set up the graph\n",
    "plt.xlabel('x')\n",
    "plt.ylabel('p(x)')\n",
    "plt.grid()\n",
    "\n",
    "# Plot x against f(x)\n",
    "plt.plot(x,p(x), color='purple')\n",
    "\n",
    "plt.show()"
   ]
  },
  {
   "cell_type": "markdown",
   "id": "4f5174bc",
   "metadata": {},
   "source": [
    "Note that the ***p(x)*** values in the plot drop exponentially for ***x*** values that are negative, and then rise exponentially for positive ***x*** values; but the minimum value returned by the function (for an *x* value of 0) is **1**."
   ]
  }
 ],
 "metadata": {
  "kernelspec": {
   "display_name": "Python 3 (ipykernel)",
   "language": "python",
   "name": "python3"
  },
  "language_info": {
   "codemirror_mode": {
    "name": "ipython",
    "version": 3
   },
   "file_extension": ".py",
   "mimetype": "text/x-python",
   "name": "python",
   "nbconvert_exporter": "python",
   "pygments_lexer": "ipython3",
   "version": "3.9.12"
  }
 },
 "nbformat": 4,
 "nbformat_minor": 5
}
